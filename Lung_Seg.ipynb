{
 "cells": [
  {
   "cell_type": "code",
   "execution_count": 1,
   "metadata": {},
   "outputs": [],
   "source": [
    "import os\n",
    "import itk\n",
    "import sys\n",
    "from ipywidgets import interact, fixed\n",
    "from ipywidgets import interactive\n",
    "import ipywidgets as widgets\n",
    "from itkwidgets import view\n",
    "import numpy as np\n",
    "from matplotlib import pyplot as plt"
   ]
  },
  {
   "cell_type": "code",
   "execution_count": 2,
   "metadata": {},
   "outputs": [],
   "source": [
    "FileName='CU102973_TLC.img.gz'\n",
    "Image=itk.imread(FileName,itk.F)"
   ]
  },
  {
   "cell_type": "code",
   "execution_count": 3,
   "metadata": {},
   "outputs": [],
   "source": [
    "PixelType=itk.F\n",
    "ImageType=itk.Image[PixelType,3]"
   ]
  },
  {
   "cell_type": "code",
   "execution_count": 4,
   "metadata": {},
   "outputs": [],
   "source": [
    "def flip_image(image):\n",
    "    PixelType=itk.F\n",
    "    ImageType=itk.Image[PixelType,3]\n",
    "    flipAxes=(False,False,True)\n",
    "        \n",
    "    flipfilter=itk.FlipImageFilter[ImageType].New()\n",
    "    flipfilter.SetInput(image)\n",
    "    flipfilter.SetFlipAxes(flipAxes)\n",
    "    flipfilter.Update()\n",
    "    return flipfilter.GetOutput()"
   ]
  },
  {
   "cell_type": "code",
   "execution_count": 5,
   "metadata": {},
   "outputs": [],
   "source": [
    "flipped=flip_image(Image)"
   ]
  },
  {
   "cell_type": "code",
   "execution_count": 6,
   "metadata": {},
   "outputs": [
    {
     "data": {
      "application/vnd.jupyter.widget-view+json": {
       "model_id": "c8e2ecbae97f4a6aab833562b5a6aa63",
       "version_major": 2,
       "version_minor": 0
      },
      "text/plain": [
       "Viewer(cmap='Grayscale', gradient_opacity=0.22, rendered_image=<itkImagePython.itkImageF3; proxy of <Swig Obje…"
      ]
     },
     "metadata": {},
     "output_type": "display_data"
    }
   ],
   "source": [
    "view(flipped,cmap='Grayscale')"
   ]
  },
  {
   "cell_type": "code",
   "execution_count": 7,
   "metadata": {},
   "outputs": [],
   "source": [
    "def flatten_image(input_image):\n",
    "    \"\"\"Flattens image into a 1D array.\n",
    "    \n",
    "    Args:\n",
    "      input_image (itk.Image): Input image\n",
    "    Returns:\n",
    "      np_image_as_array (np.array): 1D array representing a image\n",
    "      \n",
    "    \"\"\"\n",
    "    feat_img = itk.GetArrayFromImage(input_image)\n",
    "    np_image_as_array = feat_img.flatten()  \n",
    "   \n",
    "    return np_image_as_array"
   ]
  },
  {
   "cell_type": "code",
   "execution_count": 8,
   "metadata": {},
   "outputs": [],
   "source": [
    "confidence_connected = itk.ConfidenceConnectedImageFilter.New(flipped)"
   ]
  },
  {
   "cell_type": "code",
   "execution_count": 9,
   "metadata": {},
   "outputs": [],
   "source": [
    "confidence_connected.SetMultiplier(2.3)\n",
    "confidence_connected.SetNumberOfIterations(5)\n",
    "confidence_connected.SetInitialNeighborhoodRadius(3)\n",
    "confidence_connected.SetReplaceValue(2000)"
   ]
  },
  {
   "cell_type": "code",
   "execution_count": 10,
   "metadata": {},
   "outputs": [
    {
     "data": {
      "text/plain": [
       "itkIndex3 ([251, 197, 584])"
      ]
     },
     "execution_count": 10,
     "metadata": {},
     "output_type": "execute_result"
    }
   ],
   "source": [
    "flipped.TransformPhysicalPointToIndex((152,119,-1.4))"
   ]
  },
  {
   "cell_type": "code",
   "execution_count": 11,
   "metadata": {},
   "outputs": [],
   "source": [
    "confidence_connected.SetSeed([251,197,584])"
   ]
  },
  {
   "cell_type": "code",
   "execution_count": 12,
   "metadata": {},
   "outputs": [],
   "source": [
    "confidence_connected.Update()\n",
    "# "
   ]
  },
  {
   "cell_type": "code",
   "execution_count": 13,
   "metadata": {},
   "outputs": [
    {
     "data": {
      "application/vnd.jupyter.widget-view+json": {
       "model_id": "fc37c196491f4129bd288e7b13bdc11a",
       "version_major": 2,
       "version_minor": 0
      },
      "text/plain": [
       "Viewer(gradient_opacity=0.22, rendered_image=<itkImagePython.itkImageSS3; proxy of <Swig Object of type 'itkIm…"
      ]
     },
     "metadata": {},
     "output_type": "display_data"
    }
   ],
   "source": [
    "view(confidence_connected.GetOutput())"
   ]
  },
  {
   "cell_type": "code",
   "execution_count": 15,
   "metadata": {},
   "outputs": [],
   "source": [
    "imag_cc=confidence_connected.GetOutput()"
   ]
  },
  {
   "cell_type": "code",
   "execution_count": 16,
   "metadata": {},
   "outputs": [],
   "source": [
    "def rescale_cc(image):\n",
    "    InputPixelType=itk.SS\n",
    "    OutputPixelType=itk.US\n",
    "    InputImageType=itk.Image[InputPixelType,3]\n",
    "    OutputImageType=itk.Image[OutputPixelType,3]\n",
    "    rescaler=itk.RescaleIntensityImageFilter[InputImageType,OutputImageType].New()\n",
    "    rescaler.SetInput(image)\n",
    "    rescaler.Update()\n",
    "    rescaler.SetOutputMinimum(0)\n",
    "    rescaler.SetOutputMaximum(2000)\n",
    "    return rescaler.GetOutput()"
   ]
  },
  {
   "cell_type": "code",
   "execution_count": 17,
   "metadata": {},
   "outputs": [],
   "source": [
    "def rescale_to_float(image):\n",
    "    arr_cc=itk.GetArrayFromImage(imag_cc)\n",
    "    image_cc_ff = itk.GetImageFromArray(arr_cc.astype(np.float32),is_vector=False)\n",
    "    return image_cc_ff"
   ]
  },
  {
   "cell_type": "code",
   "execution_count": 18,
   "metadata": {},
   "outputs": [],
   "source": [
    "imag_ff=rescale_to_float(imag_cc)"
   ]
  },
  {
   "cell_type": "code",
   "execution_count": 30,
   "metadata": {},
   "outputs": [],
   "source": [
    "def draw_edge(image):\n",
    "    edgefilter=itk.SobelEdgeDetectionImageFilter[ImageType,ImageType].New(image)\n",
    "    edgefilter.Update()\n",
    "    rescaler=itk.RescaleIntensityImageFilter[ImageType,ImageType].New()\n",
    "    rescaler.SetInput(edgefilter.GetOutput())\n",
    "    \n",
    "    rescaler.SetOutputMinimum(0)\n",
    "    rescaler.SetOutputMaximum(2000)\n",
    "    rescaler.Update()\n",
    "    return rescaler.GetOutput()"
   ]
  },
  {
   "cell_type": "code",
   "execution_count": 31,
   "metadata": {},
   "outputs": [],
   "source": [
    "image_edge=draw_edge(imag_ff)"
   ]
  },
  {
   "cell_type": "code",
   "execution_count": 32,
   "metadata": {},
   "outputs": [
    {
     "data": {
      "application/vnd.jupyter.widget-view+json": {
       "model_id": "17aa4032b9dd4fdda7a56e0504c022b4",
       "version_major": 2,
       "version_minor": 0
      },
      "text/plain": [
       "Viewer(gradient_opacity=0.22, rendered_image=<itkImagePython.itkImageF3; proxy of <Swig Object of type 'itkIma…"
      ]
     },
     "metadata": {},
     "output_type": "display_data"
    }
   ],
   "source": [
    "view(image_edge)"
   ]
  },
  {
   "cell_type": "code",
   "execution_count": null,
   "metadata": {},
   "outputs": [],
   "source": []
  }
 ],
 "metadata": {
  "kernelspec": {
   "display_name": "Python 3",
   "language": "python",
   "name": "python3"
  },
  "language_info": {
   "codemirror_mode": {
    "name": "ipython",
    "version": 3
   },
   "file_extension": ".py",
   "mimetype": "text/x-python",
   "name": "python",
   "nbconvert_exporter": "python",
   "pygments_lexer": "ipython3",
   "version": "3.6.7"
  }
 },
 "nbformat": 4,
 "nbformat_minor": 2
}
