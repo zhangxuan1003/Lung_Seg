{
 "cells": [
  {
   "cell_type": "code",
   "execution_count": 1,
   "metadata": {},
   "outputs": [],
   "source": [
    "import os\n",
    "import itk\n",
    "import sys\n",
    "from ipywidgets import interact, fixed\n",
    "from ipywidgets import interactive\n",
    "import ipywidgets as widgets\n",
    "from itkwidgets import view\n",
    "import numpy as np\n",
    "from matplotlib import pyplot as plt"
   ]
  },
  {
   "cell_type": "code",
   "execution_count": 2,
   "metadata": {},
   "outputs": [],
   "source": [
    "FileName='CU102973_TLC.img.gz'\n",
    "Image=itk.imread(FileName,itk.F)"
   ]
  },
  {
   "cell_type": "code",
   "execution_count": 3,
   "metadata": {},
   "outputs": [
    {
     "data": {
      "text/plain": [
       "<itkMatrixPython.itkMatrixD33; proxy of <Swig Object of type 'itkMatrixD33 *' at 0x7fdb3323e570> >"
      ]
     },
     "execution_count": 3,
     "metadata": {},
     "output_type": "execute_result"
    }
   ],
   "source": [
    "Image.GetDirection()"
   ]
  },
  {
   "cell_type": "code",
   "execution_count": 4,
   "metadata": {},
   "outputs": [],
   "source": [
    "def get_direction_matrix(Image):\n",
    "    Dimension=Image.GetImageDimension()\n",
    "    DC=np.zeros((Dimension,Dimension))\n",
    "    for i in range(Dimension):\n",
    "        for j in range(Dimension):\n",
    "            DC[i,j]=Image.GetDirection().GetVnlMatrix().get(i,j)\n",
    "    return DC"
   ]
  },
  {
   "cell_type": "code",
   "execution_count": 3,
   "metadata": {},
   "outputs": [],
   "source": [
    "def flip_image(image):\n",
    "    PixelType=itk.F\n",
    "    ImageType=itk.Image[PixelType,3]\n",
    "    flipAxes=(False,False,True)\n",
    "        \n",
    "    flipfilter=itk.FlipImageFilter[ImageType].New()\n",
    "    flipfilter.SetInput(image)\n",
    "    flipfilter.SetFlipAxes(flipAxes)\n",
    "    flipfilter.Update()\n",
    "    return flipfilter.GetOutput()"
   ]
  },
  {
   "cell_type": "code",
   "execution_count": 5,
   "metadata": {},
   "outputs": [],
   "source": [
    "flipped=flip_image(Image)"
   ]
  },
  {
   "cell_type": "code",
   "execution_count": 7,
   "metadata": {},
   "outputs": [
    {
     "data": {
      "application/vnd.jupyter.widget-view+json": {
       "model_id": "85e8b4905c9c4c0b8179391e9e2b9c1a",
       "version_major": 2,
       "version_minor": 0
      },
      "text/plain": [
       "Viewer(cmap='Grayscale', gradient_opacity=0.22, rendered_image=<itkImagePython.itkImageF3; proxy of <Swig Obje…"
      ]
     },
     "metadata": {},
     "output_type": "display_data"
    }
   ],
   "source": [
    "view(flipped,cmap='Grayscale')"
   ]
  },
  {
   "cell_type": "code",
   "execution_count": 8,
   "metadata": {},
   "outputs": [],
   "source": [
    "def flatten_image(input_image):\n",
    "    \"\"\"Flattens image into a 1D array.\n",
    "    \n",
    "    Args:\n",
    "      input_image (itk.Image): Input image\n",
    "    Returns:\n",
    "      np_image_as_array (np.array): 1D array representing a image\n",
    "      \n",
    "    \"\"\"\n",
    "    feat_img = itk.GetArrayFromImage(input_image)\n",
    "    np_image_as_array = feat_img.flatten()  \n",
    "   \n",
    "    return np_image_as_array"
   ]
  },
  {
   "cell_type": "code",
   "execution_count": 9,
   "metadata": {},
   "outputs": [],
   "source": [
    "value=flatten_image(Image)"
   ]
  },
  {
   "cell_type": "code",
   "execution_count": 57,
   "metadata": {},
   "outputs": [
    {
     "data": {
      "text/plain": [
       "(array([3.2793936e+07, 0.0000000e+00, 0.0000000e+00, 2.8730130e+06,\n",
       "        4.3050184e+07, 4.6399506e+07, 2.7368341e+07, 1.3264900e+06,\n",
       "        3.2844800e+05, 7.5400000e+02]),\n",
       " array([-3024. , -2519.3, -2014.6, -1509.9, -1005.2,  -500.5,     4.2,\n",
       "          508.9,  1013.6,  1518.3,  2023. ], dtype=float32),\n",
       " <a list of 10 Patch objects>)"
      ]
     },
     "execution_count": 57,
     "metadata": {},
     "output_type": "execute_result"
    },
    {
     "data": {
      "image/png": "[encoded data removed]",
      "text/plain": [
       "<Figure size 432x288 with 1 Axes>"
      ]
     },
     "metadata": {
      "needs_background": "light"
     },
     "output_type": "display_data"
    }
   ],
   "source": [
    "plt.hist(value)"
   ]
  },
  {
   "cell_type": "code",
   "execution_count": null,
   "metadata": {},
   "outputs": [],
   "source": [
    "Dimension = 3\n",
    "\n",
    "FloatPixelType = itk.ctype('float')\n",
    "FloatImageType = itk.Image[FloatPixelType, Dimension]\n",
    "\n",
    "gradientMagnitude = itk.GradientMagnitudeImageFilter.New(Input=flipped)\n",
    "\n",
    "watershed = itk.WatershedImageFilter.New(Input=gradientMagnitude.GetOutput())\n",
    "\n",
    "threshold = float(0.005)\n",
    "level = float(0.5)\n",
    "watershed.SetThreshold(threshold)\n",
    "watershed.SetLevel(level)\n",
    "\n",
    "LabeledImageType = type(watershed.GetOutput())\n",
    "\n",
    "PixelType = itk.ctype('unsigned char')\n",
    "RGBPixelType = itk.RGBPixel[PixelType]\n",
    "RGBImageType = itk.Image[RGBPixelType, Dimension]\n",
    "\n",
    "ScalarToRGBColormapFilterType = itk.ScalarToRGBColormapImageFilter[LabeledImageType, RGBImageType]\n",
    "colormapImageFilter = ScalarToRGBColormapFilterType.New()\n",
    "colormapImageFilter.SetColormap(ScalarToRGBColormapFilterType.Jet)\n",
    "colormapImageFilter.SetInput(watershed.GetOutput())\n",
    "colormap=colormapImageFilter.Update()\n"
   ]
  },
  {
   "cell_type": "code",
   "execution_count": null,
   "metadata": {},
   "outputs": [],
   "source": []
  }
 ],
 "metadata": {
  "kernelspec": {
   "display_name": "Python 3",
   "language": "python",
   "name": "python3"
  },
  "language_info": {
   "codemirror_mode": {
    "name": "ipython",
    "version": 3
   },
   "file_extension": ".py",
   "mimetype": "text/x-python",
   "name": "python",
   "nbconvert_exporter": "python",
   "pygments_lexer": "ipython3",
   "version": "3.7.3"
  }
 },
 "nbformat": 4,
 "nbformat_minor": 2
}
